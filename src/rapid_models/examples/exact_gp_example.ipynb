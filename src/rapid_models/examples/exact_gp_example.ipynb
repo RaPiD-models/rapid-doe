{
 "cells": [
  {
   "cell_type": "markdown",
   "id": "equipped-invite",
   "metadata": {},
   "source": [
    "# Example of standard GP regression \n",
    "- Create a GP model quickly using ```gp-models```"
   ]
  },
  {
   "cell_type": "code",
   "execution_count": null,
   "id": "cooked-albany",
   "metadata": {},
   "outputs": [],
   "source": [
    "from rapid_models import gp_models"
   ]
  },
  {
   "cell_type": "code",
   "execution_count": null,
   "id": "empirical-discussion",
   "metadata": {},
   "outputs": [],
   "source": [
    "from .. import gp_models"
   ]
  },
  {
   "cell_type": "code",
   "execution_count": 9,
   "id": "fresh-dictionary",
   "metadata": {},
   "outputs": [
    {
     "ename": "ModuleNotFoundError",
     "evalue": "No module named 'gp_models'",
     "output_type": "error",
     "traceback": [
      "\u001b[1;31m---------------------------------------------------------------------------\u001b[0m",
      "\u001b[1;31mModuleNotFoundError\u001b[0m                       Traceback (most recent call last)",
      "\u001b[1;32m<ipython-input-9-328fdb6ed2eb>\u001b[0m in \u001b[0;36m<module>\u001b[1;34m\u001b[0m\n\u001b[0;32m      2\u001b[0m \u001b[0msys\u001b[0m\u001b[1;33m.\u001b[0m\u001b[0mpath\u001b[0m\u001b[1;33m.\u001b[0m\u001b[0mappend\u001b[0m\u001b[1;33m(\u001b[0m\u001b[1;34m'...\\\\gp_models\\\\'\u001b[0m\u001b[1;33m)\u001b[0m\u001b[1;33m\u001b[0m\u001b[1;33m\u001b[0m\u001b[0m\n\u001b[0;32m      3\u001b[0m \u001b[1;33m\u001b[0m\u001b[0m\n\u001b[1;32m----> 4\u001b[1;33m \u001b[1;32mimport\u001b[0m \u001b[0mgp_models\u001b[0m\u001b[1;33m\u001b[0m\u001b[1;33m\u001b[0m\u001b[0m\n\u001b[0m",
      "\u001b[1;31mModuleNotFoundError\u001b[0m: No module named 'gp_models'"
     ]
    }
   ],
   "source": [
    "import os, sys\n",
    "sys.path.append('...\\\\gp_models\\\\')\n",
    "\n",
    "import gp_models"
   ]
  },
  {
   "cell_type": "code",
   "execution_count": null,
   "id": "grateful-violation",
   "metadata": {},
   "outputs": [],
   "source": []
  }
 ],
 "metadata": {
  "kernelspec": {
   "display_name": "Python 3",
   "language": "python",
   "name": "python3"
  },
  "language_info": {
   "codemirror_mode": {
    "name": "ipython",
    "version": 3
   },
   "file_extension": ".py",
   "mimetype": "text/x-python",
   "name": "python",
   "nbconvert_exporter": "python",
   "pygments_lexer": "ipython3",
   "version": "3.9.1"
  }
 },
 "nbformat": 4,
 "nbformat_minor": 5
}
